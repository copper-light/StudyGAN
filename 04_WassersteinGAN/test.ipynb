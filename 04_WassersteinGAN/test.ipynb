{
 "cells": [
  {
   "cell_type": "code",
   "execution_count": 37,
   "id": "19c159691aeb64f2",
   "metadata": {
    "ExecuteTime": {
     "end_time": "2025-10-27T04:13:14.306327Z",
     "start_time": "2025-10-27T04:13:14.301058Z"
    }
   },
   "outputs": [],
   "source": [
    "import torch"
   ]
  },
  {
   "cell_type": "code",
   "execution_count": 53,
   "id": "fd14f8dc4b518a3a",
   "metadata": {
    "ExecuteTime": {
     "end_time": "2025-10-27T05:51:18.309573Z",
     "start_time": "2025-10-27T05:51:18.307133Z"
    }
   },
   "outputs": [],
   "source": [
    "a = torch.tensor([[.10,.20,.35],[.10,.20,.30]], requires_grad=True)"
   ]
  },
  {
   "cell_type": "code",
   "execution_count": 54,
   "id": "f4e917b3fe798f2d",
   "metadata": {
    "ExecuteTime": {
     "end_time": "2025-10-27T05:51:18.541423Z",
     "start_time": "2025-10-27T05:51:18.536722Z"
    }
   },
   "outputs": [
    {
     "data": {
      "text/plain": [
       "tensor([[0.1000, 0.2000, 0.3500],\n",
       "        [0.1000, 0.2000, 0.3000]], requires_grad=True)"
      ]
     },
     "execution_count": 54,
     "metadata": {},
     "output_type": "execute_result"
    }
   ],
   "source": [
    "a"
   ]
  },
  {
   "cell_type": "code",
   "execution_count": 55,
   "id": "407e1c21b9554f18",
   "metadata": {
    "ExecuteTime": {
     "end_time": "2025-10-27T05:51:18.878043Z",
     "start_time": "2025-10-27T05:51:18.873487Z"
    }
   },
   "outputs": [
    {
     "data": {
      "text/plain": [
       "tensor([0.6500, 0.6000], grad_fn=<SumBackward1>)"
      ]
     },
     "execution_count": 55,
     "metadata": {},
     "output_type": "execute_result"
    }
   ],
   "source": [
    "a.sum(dim=1)"
   ]
  },
  {
   "cell_type": "code",
   "execution_count": 56,
   "id": "26e216bec14158d0",
   "metadata": {
    "ExecuteTime": {
     "end_time": "2025-10-27T06:15:34.300063Z",
     "start_time": "2025-10-27T06:15:34.297497Z"
    }
   },
   "outputs": [],
   "source": [
    "a = torch.tensor([1,2,3,4,5,6,6])"
   ]
  },
  {
   "cell_type": "code",
   "execution_count": 65,
   "id": "e5750112022bffef",
   "metadata": {
    "ExecuteTime": {
     "end_time": "2025-10-27T06:16:09.147070Z",
     "start_time": "2025-10-27T06:16:09.143875Z"
    }
   },
   "outputs": [
    {
     "data": {
      "text/plain": [
       "tensor([5, 6, 6])"
      ]
     },
     "execution_count": 65,
     "metadata": {},
     "output_type": "execute_result"
    }
   ],
   "source": [
    "a[-3:]"
   ]
  },
  {
   "cell_type": "code",
   "execution_count": null,
   "id": "cf2db62c57725c96",
   "metadata": {},
   "outputs": [],
   "source": []
  }
 ],
 "metadata": {
  "kernelspec": {
   "display_name": "Python 3 (ipykernel)",
   "language": "python",
   "name": "python3"
  },
  "language_info": {
   "codemirror_mode": {
    "name": "ipython",
    "version": 3
   },
   "file_extension": ".py",
   "mimetype": "text/x-python",
   "name": "python",
   "nbconvert_exporter": "python",
   "pygments_lexer": "ipython3",
   "version": "3.13.9"
  }
 },
 "nbformat": 4,
 "nbformat_minor": 5
}
