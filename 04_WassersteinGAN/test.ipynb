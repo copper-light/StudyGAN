{
 "cells": [
  {
   "metadata": {
    "ExecuteTime": {
     "end_time": "2025-10-27T04:13:14.306327Z",
     "start_time": "2025-10-27T04:13:14.301058Z"
    }
   },
   "cell_type": "code",
   "source": "import torch",
   "id": "19c159691aeb64f2",
   "outputs": [],
   "execution_count": 37
  },
  {
   "metadata": {
    "ExecuteTime": {
     "end_time": "2025-10-27T05:51:18.309573Z",
     "start_time": "2025-10-27T05:51:18.307133Z"
    }
   },
   "cell_type": "code",
   "source": "a = torch.tensor([[.10,.20,.35],[.10,.20,.30]], requires_grad=True)",
   "id": "fd14f8dc4b518a3a",
   "outputs": [],
   "execution_count": 53
  },
  {
   "metadata": {
    "ExecuteTime": {
     "end_time": "2025-10-27T05:51:18.541423Z",
     "start_time": "2025-10-27T05:51:18.536722Z"
    }
   },
   "cell_type": "code",
   "source": "a",
   "id": "f4e917b3fe798f2d",
   "outputs": [
    {
     "data": {
      "text/plain": [
       "tensor([[0.1000, 0.2000, 0.3500],\n",
       "        [0.1000, 0.2000, 0.3000]], requires_grad=True)"
      ]
     },
     "execution_count": 54,
     "metadata": {},
     "output_type": "execute_result"
    }
   ],
   "execution_count": 54
  },
  {
   "metadata": {
    "ExecuteTime": {
     "end_time": "2025-10-27T05:51:18.878043Z",
     "start_time": "2025-10-27T05:51:18.873487Z"
    }
   },
   "cell_type": "code",
   "source": "a.sum(dim=1)",
   "id": "407e1c21b9554f18",
   "outputs": [
    {
     "data": {
      "text/plain": [
       "tensor([0.6500, 0.6000], grad_fn=<SumBackward1>)"
      ]
     },
     "execution_count": 55,
     "metadata": {},
     "output_type": "execute_result"
    }
   ],
   "execution_count": 55
  },
  {
   "metadata": {
    "ExecuteTime": {
     "end_time": "2025-10-27T06:15:34.300063Z",
     "start_time": "2025-10-27T06:15:34.297497Z"
    }
   },
   "cell_type": "code",
   "source": "a = torch.tensor([1,2,3,4,5,6,6])",
   "id": "26e216bec14158d0",
   "outputs": [],
   "execution_count": 56
  },
  {
   "metadata": {
    "ExecuteTime": {
     "end_time": "2025-10-27T06:16:09.147070Z",
     "start_time": "2025-10-27T06:16:09.143875Z"
    }
   },
   "cell_type": "code",
   "source": "a[-3:]",
   "id": "e5750112022bffef",
   "outputs": [
    {
     "data": {
      "text/plain": [
       "tensor([5, 6, 6])"
      ]
     },
     "execution_count": 65,
     "metadata": {},
     "output_type": "execute_result"
    }
   ],
   "execution_count": 65
  },
  {
   "metadata": {},
   "cell_type": "code",
   "outputs": [],
   "execution_count": null,
   "source": "",
   "id": "cf2db62c57725c96"
  }
 ],
 "metadata": {
  "kernelspec": {
   "display_name": "Python 3",
   "language": "python",
   "name": "python3"
  },
  "language_info": {
   "codemirror_mode": {
    "name": "ipython",
    "version": 2
   },
   "file_extension": ".py",
   "mimetype": "text/x-python",
   "name": "python",
   "nbconvert_exporter": "python",
   "pygments_lexer": "ipython2",
   "version": "2.7.6"
  }
 },
 "nbformat": 4,
 "nbformat_minor": 5
}
