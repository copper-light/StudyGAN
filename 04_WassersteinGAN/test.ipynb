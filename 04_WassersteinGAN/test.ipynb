{
 "cells": [
  {
   "metadata": {
    "ExecuteTime": {
     "end_time": "2025-10-27T04:13:14.306327Z",
     "start_time": "2025-10-27T04:13:14.301058Z"
    }
   },
   "cell_type": "code",
   "source": "import torch",
   "id": "19c159691aeb64f2",
   "outputs": [],
   "execution_count": 37
  },
  {
   "metadata": {
    "ExecuteTime": {
     "end_time": "2025-10-27T04:13:52.109801Z",
     "start_time": "2025-10-27T04:13:52.106434Z"
    }
   },
   "cell_type": "code",
   "source": "a = torch.tensor([.10], requires_grad=True)",
   "id": "fd14f8dc4b518a3a",
   "outputs": [],
   "execution_count": 43
  },
  {
   "metadata": {
    "ExecuteTime": {
     "end_time": "2025-10-27T04:13:53.018859Z",
     "start_time": "2025-10-27T04:13:53.014319Z"
    }
   },
   "cell_type": "code",
   "source": "a",
   "id": "f4e917b3fe798f2d",
   "outputs": [
    {
     "data": {
      "text/plain": [
       "tensor([0.1000], requires_grad=True)"
      ]
     },
     "execution_count": 44,
     "metadata": {},
     "output_type": "execute_result"
    }
   ],
   "execution_count": 44
  },
  {
   "metadata": {
    "ExecuteTime": {
     "end_time": "2025-10-27T04:14:07.161438Z",
     "start_time": "2025-10-27T04:14:07.158475Z"
    }
   },
   "cell_type": "code",
   "source": "a._grad",
   "id": "407e1c21b9554f18",
   "outputs": [],
   "execution_count": 49
  },
  {
   "metadata": {},
   "cell_type": "code",
   "outputs": [],
   "execution_count": null,
   "source": "",
   "id": "26e216bec14158d0"
  }
 ],
 "metadata": {
  "kernelspec": {
   "display_name": "Python 3",
   "language": "python",
   "name": "python3"
  },
  "language_info": {
   "codemirror_mode": {
    "name": "ipython",
    "version": 2
   },
   "file_extension": ".py",
   "mimetype": "text/x-python",
   "name": "python",
   "nbconvert_exporter": "python",
   "pygments_lexer": "ipython2",
   "version": "2.7.6"
  }
 },
 "nbformat": 4,
 "nbformat_minor": 5
}
